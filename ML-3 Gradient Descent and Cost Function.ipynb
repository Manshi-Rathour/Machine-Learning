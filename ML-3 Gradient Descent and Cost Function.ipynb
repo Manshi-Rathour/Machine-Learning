{
 "cells": [
  {
   "cell_type": "code",
   "execution_count": 1,
   "id": "1e093052",
   "metadata": {},
   "outputs": [],
   "source": [
    "import numpy as np"
   ]
  },
  {
   "cell_type": "code",
   "execution_count": 2,
   "id": "e8bda38d",
   "metadata": {},
   "outputs": [],
   "source": [
    "def gradient_descent(x, y):\n",
    "    m_curr = b_curr = 0\n",
    "    iterations = 1000\n",
    "    n = len(x)\n",
    "    learning_rate = 0.08\n",
    "\n",
    "    for i in range(iterations):\n",
    "        y_predicted = m_curr * x + b_curr\n",
    "        cost = (1/n) * sum([val**2 for val in (y-y_predicted)])\n",
    "        md = -(2/n)*sum(x*(y - y_predicted))\n",
    "        bd = -(2/n)*sum(y - y_predicted)\n",
    "        m_curr = m_curr - learning_rate * md\n",
    "        b_curr = b_curr - learning_rate * bd"
   ]
  },
  {
   "cell_type": "code",
   "execution_count": 3,
   "id": "b073d940",
   "metadata": {},
   "outputs": [],
   "source": [
    "x = np.array([1, 2, 3, 4, 5])\n",
    "y = np.array([5, 7, 9, 11, 13])"
   ]
  },
  {
   "cell_type": "code",
   "execution_count": 4,
   "id": "80e031d7",
   "metadata": {},
   "outputs": [],
   "source": [
    "gradient_descent(x, y)"
   ]
  }
 ],
 "metadata": {
  "kernelspec": {
   "display_name": "Python 3 (ipykernel)",
   "language": "python",
   "name": "python3"
  },
  "language_info": {
   "codemirror_mode": {
    "name": "ipython",
    "version": 3
   },
   "file_extension": ".py",
   "mimetype": "text/x-python",
   "name": "python",
   "nbconvert_exporter": "python",
   "pygments_lexer": "ipython3",
   "version": "3.11.0"
  }
 },
 "nbformat": 4,
 "nbformat_minor": 5
}
